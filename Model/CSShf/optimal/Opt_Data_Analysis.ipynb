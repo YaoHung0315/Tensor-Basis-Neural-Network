{
 "cells": [
  {
   "cell_type": "code",
   "execution_count": null,
   "metadata": {},
   "outputs": [],
   "source": [
    "import numpy as np\n",
    "import scipy.io as sio\n",
    "import matplotlib.pyplot as plt\n",
    "import statsmodels.api as sm\n",
    "import seaborn as sns\n",
    "import pandas as pd"
   ]
  },
  {
   "cell_type": "code",
   "execution_count": null,
   "metadata": {},
   "outputs": [],
   "source": [
    "# Load the data from the .mat file\n",
    "data = sio.loadmat('../data/ML_Optimal_method.mat')\n",
    "Sij = data['Sij']\n",
    "eddy_double_TBNN = data['eddy_double_TBNN']\n",
    "\n",
    "# Select features from Sij (columns 0, 1, 3, and 4)\n",
    "X = Sij[:, [0, 1, 3, 4]]\n",
    "# Flatten the target variable\n",
    "Y = eddy_double_TBNN.ravel()\n",
    "\n",
    "# Compute and print Pearson correlation coefficients for each feature vs. the target\n",
    "print(\"Pairwise Pearson correlations between each feature and eddy_double_TBNN:\")\n",
    "for i in range(X.shape[1]):\n",
    "    corr = np.corrcoef(X[:, i], Y)[0, 1]\n",
    "    print(f\"Feature {i+1} (Sij[:, { [0,1,3,4][i] }]) vs. eddy_double_TBNN: {corr:.3f}\")\n",
    "\n",
    "# Create a DataFrame for easier plotting and analysis\n",
    "df = pd.DataFrame(X, columns=['Feature_1', 'Feature_2', 'Feature_3', 'Feature_4'])\n",
    "df['eddy_double_TBNN'] = Y\n",
    "\n",
    "# Plot scatter plots for each feature vs. the target\n",
    "fig, axs = plt.subplots(2, 2, figsize=(12, 10))\n",
    "features = ['Feature_1', 'Feature_2', 'Feature_3', 'Feature_4']\n",
    "for i, feature in enumerate(features):\n",
    "    ax = axs[i // 2, i % 2]\n",
    "    ax.scatter(df[feature], df['eddy_double_TBNN'], alpha=0.5, color='blue')\n",
    "    ax.set_xlabel(feature)\n",
    "    ax.set_ylabel('eddy_double_TBNN')\n",
    "    ax.set_title(f\"Scatter plot: {feature} vs eddy_double_TBNN\")\n",
    "plt.tight_layout()\n",
    "plt.show()\n",
    "\n",
    "# Optionally, plot a pairplot to see relationships between all variables\n",
    "\n",
    "\n",
    "# Create a DataFrame for easier handling\n",
    "df = pd.DataFrame(X, columns=['Feature_1', 'Feature_2', 'Feature_3', 'Feature_4'])\n",
    "df['Label'] = Y\n",
    "\n",
    "# Add a constant term for the intercept\n",
    "X_with_const = sm.add_constant(df[['Feature_1', 'Feature_2', 'Feature_3', 'Feature_4']])\n",
    "\n",
    "# Fit the multiple linear regression model\n",
    "model = sm.OLS(df['Label'], X_with_const).fit()\n",
    "\n",
    "# Print out the summary statistics of the model\n",
    "print(model.summary())\n",
    "\n",
    "# Visualize the pairwise relationships\n",
    "sns.pairplot(df)\n",
    "plt.show()"
   ]
  }
 ],
 "metadata": {
  "kernelspec": {
   "display_name": "pytorch",
   "language": "python",
   "name": "python3"
  },
  "language_info": {
   "codemirror_mode": {
    "name": "ipython",
    "version": 3
   },
   "file_extension": ".py",
   "mimetype": "text/x-python",
   "name": "python",
   "nbconvert_exporter": "python",
   "pygments_lexer": "ipython3",
   "version": "3.12.3"
  }
 },
 "nbformat": 4,
 "nbformat_minor": 2
}
